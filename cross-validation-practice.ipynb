{
 "cells": [
  {
   "cell_type": "markdown",
   "id": "28533096",
   "metadata": {},
   "source": [
    "#### Cross validation on Diabetes dataset from Sklearn"
   ]
  },
  {
   "cell_type": "code",
   "execution_count": 62,
   "id": "7d5273aa",
   "metadata": {},
   "outputs": [],
   "source": [
    "# import libraries\n",
    "import pandas as pd\n",
    "from sklearn.datasets import load_diabetes\n",
    "from sklearn.linear_model import LinearRegression\n",
    "from sklearn.model_selection import train_test_split\n",
    "import matplotlib.pyplot as plt"
   ]
  },
  {
   "cell_type": "markdown",
   "id": "073d6584",
   "metadata": {},
   "source": [
    "#### References:\n",
    "1) https://scikit-learn.org/stable/modules/generated/sklearn.datasets.load_diabetes.html\n",
    "\n",
    "2) https://towardsdatascience.com/train-test-split-and-cross-validation-in-python-80b61beca4b6"
   ]
  },
  {
   "cell_type": "code",
   "execution_count": 63,
   "id": "b4cef7fa",
   "metadata": {},
   "outputs": [],
   "source": [
    "# load data \n",
    "# Declare the columns names\n",
    "columns = \"age sex bmi map tc ldl hdl tch ltg glu\".split() \n",
    "diabetes = load_diabetes() \n",
    "# load the dataset as a pandas data frame\n",
    "df = pd.DataFrame(diabetes.data, columns=columns) \n",
    "y_target = diabetes.target "
   ]
  },
  {
   "cell_type": "code",
   "execution_count": 64,
   "id": "c1ecf1a6",
   "metadata": {},
   "outputs": [
    {
     "name": "stdout",
     "output_type": "stream",
     "text": [
      "<class 'pandas.core.frame.DataFrame'>\n",
      "RangeIndex: 442 entries, 0 to 441\n",
      "Data columns (total 10 columns):\n",
      " #   Column  Non-Null Count  Dtype  \n",
      "---  ------  --------------  -----  \n",
      " 0   age     442 non-null    float64\n",
      " 1   sex     442 non-null    float64\n",
      " 2   bmi     442 non-null    float64\n",
      " 3   map     442 non-null    float64\n",
      " 4   tc      442 non-null    float64\n",
      " 5   ldl     442 non-null    float64\n",
      " 6   hdl     442 non-null    float64\n",
      " 7   tch     442 non-null    float64\n",
      " 8   ltg     442 non-null    float64\n",
      " 9   glu     442 non-null    float64\n",
      "dtypes: float64(10)\n",
      "memory usage: 34.7 KB\n"
     ]
    }
   ],
   "source": [
    "# describe data\n",
    "df.info()"
   ]
  },
  {
   "cell_type": "code",
   "execution_count": 65,
   "id": "5542dd25",
   "metadata": {},
   "outputs": [
    {
     "name": "stdout",
     "output_type": "stream",
     "text": [
      "Check dimension of train and test datasets: \n",
      "Training set:  (353, 10) (353,)\n",
      "Test set:  (89, 10) (89,)\n"
     ]
    }
   ],
   "source": [
    "# train and test split\n",
    "X_train, X_test, y_train, y_test = train_test_split(df, y_target, test_size = 0.2, random_state = 42)\n",
    "print(\"Check dimension of train and test datasets: \")\n",
    "print(\"Training set: \", X_train.shape, y_train.shape)\n",
    "print(\"Test set: \", X_test.shape, y_test.shape)"
   ]
  },
  {
   "cell_type": "code",
   "execution_count": 66,
   "id": "2cf46ebf",
   "metadata": {},
   "outputs": [],
   "source": [
    "# Fitting linear regression\n",
    "linreg = LinearRegression()\n",
    "diabetes_model = linreg.fit(X_train, y_train)\n",
    "y_pred = diabetes_model.predict(X_test)"
   ]
  },
  {
   "cell_type": "code",
   "execution_count": 67,
   "id": "e9fc25b6",
   "metadata": {},
   "outputs": [
    {
     "data": {
      "text/plain": [
       "Text(0, 0.5, 'Expected values')"
      ]
     },
     "execution_count": 67,
     "metadata": {},
     "output_type": "execute_result"
    },
    {
     "data": {
      "image/png": "[encoded data removed]",
      "text/plain": [
       "<Figure size 432x288 with 1 Axes>"
      ]
     },
     "metadata": {
      "needs_background": "light"
     },
     "output_type": "display_data"
    }
   ],
   "source": [
    "# Plotting y_test and y_pred\n",
    "plt.scatter(y_test, y_pred)\n",
    "plt.xlabel(\"True values\")\n",
    "plt.ylabel(\"Expected values\")"
   ]
  },
  {
   "cell_type": "code",
   "execution_count": 68,
   "id": "b7ae73ec",
   "metadata": {},
   "outputs": [
    {
     "name": "stdout",
     "output_type": "stream",
     "text": [
      "Accuracy score:  0.45260660216173787\n"
     ]
    }
   ],
   "source": [
    "# Accuracy score\n",
    "print(\"Accuracy score: \", diabetes_model.score(X_test, y_test))"
   ]
  },
  {
   "cell_type": "markdown",
   "id": "ff5dfa83",
   "metadata": {},
   "source": [
    "#### Cross validation"
   ]
  },
  {
   "cell_type": "markdown",
   "id": "f32221a1",
   "metadata": {},
   "source": [
    "##### K-fold\n",
    "Split the data into k different subsets, use k-1 datasets to train the data, leave the last subset or last fold as test data. Average the model against each of the folds and finalize the model. After that we test the data against the test set."
   ]
  },
  {
   "cell_type": "markdown",
   "id": "b139d068",
   "metadata": {},
   "source": [
    "**Example:**"
   ]
  },
  {
   "cell_type": "code",
   "execution_count": 51,
   "id": "197d859d",
   "metadata": {},
   "outputs": [
    {
     "name": "stdout",
     "output_type": "stream",
     "text": [
      "KFold(n_splits=2, random_state=None, shuffle=False)\n"
     ]
    }
   ],
   "source": [
    "# import KFold from sklearn\n",
    "from sklearn.model_selection import KFold\n",
    "import numpy as np\n",
    "\n",
    "X = np.array( [[1, 2], [3, 4], [1, 2], [3, 4]] )\n",
    "y = np.array( [1, 2, 3, 4])\n",
    "# split into 2 folds\n",
    "kf = KFold( n_splits = 2 ) \n",
    "# returns the number of splitting iterations in cross-validator\n",
    "kf.get_n_splits(X)\n",
    "print(kf)"
   ]
  },
  {
   "cell_type": "code",
   "execution_count": 56,
   "id": "1edfd7c5",
   "metadata": {},
   "outputs": [
    {
     "name": "stdout",
     "output_type": "stream",
     "text": [
      "----K-fold cross validation----\n",
      "Train set index:  [2 3]\n",
      "Test set index:  [0 1]\n",
      "-------------\n",
      "Train set index:  [0 1]\n",
      "Test set index:  [2 3]\n",
      "-------------\n"
     ]
    }
   ],
   "source": [
    "print(\"----K-fold cross validation----\")\n",
    "for train_index, test_index in kf.split(X):\n",
    "    print(\"Train set index: \", train_index)\n",
    "    print(\"Test set index: \", test_index)\n",
    "    print(\"-------------\")\n",
    "    X_train, X_test = X[train_index], X[test_index]\n",
    "    y_train, y_test = y[train_index], y[test_index]"
   ]
  },
  {
   "cell_type": "markdown",
   "id": "0c24a71d",
   "metadata": {},
   "source": [
    "##### Leave-one-out cross validation\n",
    "\n",
    "Here, the number of folds(subsets) is equal to the number of observations in the dataset. Then average ALL of these folds and build our model with the average. We then test the model against the last fold. \n",
    "\n",
    "This method is computationally expensive, should be used on small datasets. "
   ]
  },
  {
   "cell_type": "markdown",
   "id": "2355193b",
   "metadata": {},
   "source": [
    "**Example:**"
   ]
  },
  {
   "cell_type": "code",
   "execution_count": 57,
   "id": "10f50109",
   "metadata": {},
   "outputs": [
    {
     "name": "stdout",
     "output_type": "stream",
     "text": [
      "----Leave-one-out cross validation----\n",
      "Train set:  [1]\n",
      "Test set:  [0]\n",
      "-----------\n",
      "Train set:  [0]\n",
      "Test set:  [1]\n",
      "-----------\n"
     ]
    }
   ],
   "source": [
    "from sklearn.model_selection import LeaveOneOut\n",
    "\n",
    "X = np.array( [[1, 2], [3, 4]] )\n",
    "y = np.array( [1, 2] )\n",
    "\n",
    "loocv = LeaveOneOut()\n",
    "loocv.get_n_splits(X)\n",
    "\n",
    "print(\"----Leave-one-out cross validation----\")\n",
    "for train_index, test_index in loocv.split(X):\n",
    "    print(\"Train set: \", train_index)\n",
    "    print(\"Test set: \", test_index)\n",
    "    X_train, X_test = X[train_index], X[test_index]\n",
    "    y_train, y_test = y[train_index], y[test_index]\n",
    "    print(\"-----------\")"
   ]
  },
  {
   "cell_type": "markdown",
   "id": "23550da1",
   "metadata": {},
   "source": [
    "##### Using cross-validation for diabetes dataset"
   ]
  },
  {
   "cell_type": "code",
   "execution_count": 59,
   "id": "400d79cd",
   "metadata": {},
   "outputs": [],
   "source": [
    "from sklearn.model_selection import cross_val_score, cross_val_predict\n",
    "from sklearn import metrics"
   ]
  },
  {
   "cell_type": "code",
   "execution_count": 69,
   "id": "ded8b1f6",
   "metadata": {},
   "outputs": [
    {
     "name": "stdout",
     "output_type": "stream",
     "text": [
      "Cross validation score:  [0.4554861  0.46138572 0.40094084 0.55220736 0.43942775 0.56923406]\n"
     ]
    }
   ],
   "source": [
    "# Cross validation score for 6 folds\n",
    "scores = cross_val_score(diabetes_model, df, y_target, cv = 6)\n",
    "print(\"Cross validation score: \", scores)"
   ]
  },
  {
   "cell_type": "code",
   "execution_count": 71,
   "id": "bf0a90fd",
   "metadata": {},
   "outputs": [
    {
     "data": {
      "text/plain": [
       "<matplotlib.collections.PathCollection at 0x1b826edcc70>"
      ]
     },
     "execution_count": 71,
     "metadata": {},
     "output_type": "execute_result"
    },
    {
     "data": {
      "image/png": "[encoded data removed]",
      "text/plain": [
       "<Figure size 432x288 with 1 Axes>"
      ]
     },
     "metadata": {
      "needs_background": "light"
     },
     "output_type": "display_data"
    }
   ],
   "source": [
    "# Cross validated predictions\n",
    "predictions = cross_val_predict(diabetes_model, df, y_target, cv = 6)\n",
    "plt.scatter(y_target, predictions)"
   ]
  },
  {
   "cell_type": "code",
   "execution_count": 72,
   "id": "8352c24a",
   "metadata": {},
   "outputs": [
    {
     "name": "stdout",
     "output_type": "stream",
     "text": [
      "Cross-prediction accuracy:  0.4908065838640775\n"
     ]
    }
   ],
   "source": [
    "# Accuracy of model \n",
    "print(\"Cross-prediction accuracy: \", metrics.r2_score(y_target, predictions))"
   ]
  },
  {
   "cell_type": "code",
   "execution_count": null,
   "id": "fdbc32c5",
   "metadata": {},
   "outputs": [],
   "source": []
  }
 ],
 "metadata": {
  "kernelspec": {
   "display_name": "Python 3 (ipykernel)",
   "language": "python",
   "name": "python3"
  },
  "language_info": {
   "codemirror_mode": {
    "name": "ipython",
    "version": 3
   },
   "file_extension": ".py",
   "mimetype": "text/x-python",
   "name": "python",
   "nbconvert_exporter": "python",
   "pygments_lexer": "ipython3",
   "version": "3.8.8"
  }
 },
 "nbformat": 4,
 "nbformat_minor": 5
}
